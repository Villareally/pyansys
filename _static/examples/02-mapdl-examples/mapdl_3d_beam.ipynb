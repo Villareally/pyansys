{
  "cells": [
    {
      "cell_type": "code",
      "execution_count": null,
      "metadata": {
        "collapsed": false
      },
      "outputs": [],
      "source": [
        "%matplotlib inline\nfrom pyvista import set_plot_theme\nset_plot_theme('document')"
      ]
    },
    {
      "cell_type": "markdown",
      "metadata": {},
      "source": [
        "MAPDL 3D Beam Example\n=====================\n\nThis is a simple example that loads an archive file containing a beam\nand then runs a modal analysis using the simplified `modal_analysis`\nmethod.\n"
      ]
    },
    {
      "cell_type": "code",
      "execution_count": null,
      "metadata": {
        "collapsed": false
      },
      "outputs": [],
      "source": [
        "from pyansys import examples\nimport pyansys\n\n\nmapdl = pyansys.launch_mapdl(loglevel='ERROR')\n\nmapdl.cdread('db', examples.hexarchivefile)\nmapdl.esel('s', 'ELEM', vmin=5, vmax=20)\nmapdl.cm('ELEM_COMP', 'ELEM')\nmapdl.nsel('s', 'NODE', vmin=5, vmax=20)\nmapdl.cm('NODE_COMP', 'NODE')\n\n# boundary conditions\nmapdl.allsel()\n\n# dummy steel properties\nmapdl.prep7()\nmapdl.mp('EX', 1, 200E9)  # Elastic moduli in Pa (kg/(m*s**2))\nmapdl.mp('DENS', 1, 7800)  # Density in kg/m3\nmapdl.mp('NUXY', 1, 0.3)  # Poissons Ratio\nmapdl.emodif('ALL', 'MAT', 1)\n\n# fix one end of the beam\nmapdl.nsel('S', 'LOC', 'Z')\nmapdl.d('all', 'all')\nmapdl.allsel()\n\nmapdl.mxpand(elcalc='YES')\nmapdl.modal_analysis(nmode=6)"
      ]
    },
    {
      "cell_type": "markdown",
      "metadata": {},
      "source": [
        "View the results using the pyansys result object\n"
      ]
    },
    {
      "cell_type": "code",
      "execution_count": null,
      "metadata": {
        "collapsed": false
      },
      "outputs": [],
      "source": [
        "result = mapdl.result\nprint(result)"
      ]
    },
    {
      "cell_type": "markdown",
      "metadata": {},
      "source": [
        "Access nodal displacement values\n"
      ]
    },
    {
      "cell_type": "code",
      "execution_count": null,
      "metadata": {
        "collapsed": false
      },
      "outputs": [],
      "source": [
        "nnum, disp = result.nodal_displacement(0)\n\n# print the nodes 50 - 59\nfor i in range(49, 59):\n    print(nnum[i], disp[i])"
      ]
    },
    {
      "cell_type": "markdown",
      "metadata": {},
      "source": [
        "Plot a modal result\n"
      ]
    },
    {
      "cell_type": "code",
      "execution_count": null,
      "metadata": {
        "collapsed": false
      },
      "outputs": [],
      "source": [
        "result.plot_nodal_displacement(0, show_edges=True)"
      ]
    },
    {
      "cell_type": "markdown",
      "metadata": {},
      "source": [
        "Animate a modal result result.animate\\_nodal\\_solution(0,\nshow\\_edges=True, loop=False, displacement\\_factor=10,\n"
      ]
    },
    {
      "cell_type": "code",
      "execution_count": null,
      "metadata": {
        "collapsed": false
      },
      "outputs": [],
      "source": [
        "# movie_filename='demo.gif')"
      ]
    },
    {
      "cell_type": "markdown",
      "metadata": {},
      "source": [
        "Cleanup\n=======\n\nClose mapdl when complete\n"
      ]
    },
    {
      "cell_type": "code",
      "execution_count": null,
      "metadata": {
        "collapsed": false
      },
      "outputs": [],
      "source": [
        "mapdl.exit()"
      ]
    }
  ],
  "metadata": {
    "kernelspec": {
      "display_name": "Python 3",
      "language": "python",
      "name": "python3"
    },
    "language_info": {
      "codemirror_mode": {
        "name": "ipython",
        "version": 3
      },
      "file_extension": ".py",
      "mimetype": "text/x-python",
      "name": "python",
      "nbconvert_exporter": "python",
      "pygments_lexer": "ipython3",
      "version": "3.7.9"
    }
  },
  "nbformat": 4,
  "nbformat_minor": 0
}